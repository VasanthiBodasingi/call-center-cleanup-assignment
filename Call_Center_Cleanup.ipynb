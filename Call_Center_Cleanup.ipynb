{
 "cells": [
  {
   "cell_type": "markdown",
   "id": "331a1c4f",
   "metadata": {},
   "source": [
    "# Call Center Cleanup\n",
    "\n",
    "For this assignment, we will be working with call center data. You can start working on the assignment after the first lesson on Exploratory Data Analysis. Make sure to read the whole assignment before starting anything! As you code along in the Jupyter notebook, you are asked to make note of the results of your analysis. Do so by clicking on the results box and adding your notes beside each question.\n",
    "\n",
    "## Business Issue and Understanding\n",
    "\n",
    "You are working for a company that has two call centers: the North Call Center and the South Call Center. The company is looking to possibly hire five additional reps to enhance customer experience. Your task is to explore how efficient the current reps are in each branch to determine which branch would benefit from additional assistance.\n",
    "\n",
    "### How the Call Center Works\n",
    "\n",
    "Call center representatives are assigned queues. When calls are assigned to a queue, the call is assigned to the next person in line in the queue. After a call is assigned to a representative, the amount of time between assignment and the call starting is divided into busy minutes and not ready minutes. If the call is incoming and a customer is waiting on the phone for a rep, the time is split into three categories: busy minutes, not ready minutes, and incoming call wait time. Once the rep has the customer on the phone, there might be during call wait time, where the call is put on hold while the rep gets an answer for the customer.\n",
    "\n",
    "### Notes about the Dataset\n",
    "\n",
    "If you haven't worked in a call center before, these notes might help you throughout your analysis.\n",
    "\n",
    "* The call purpose is tagged for each call.\n",
    "* The time of the call is tagged in 1 hour blocks starting at 9:00 AM and ending at 5:00 PM.\n",
    "* Calls are tagged as incoming or outgoing.\n",
    "* Reps are assigned to queues. When the reps are working, they take calls in the order of their queue.\n",
    "* A call that is dropped due to technical error or missed by the center because they have reached maximum capacity is a lost call.\n",
    "* An abandoned call is when the customer hangs up because they have been waiting for too long.\n",
    "* Busy Minutes: the amount of time after a call comes in or needs to go out where the assigned rep is not available because they are busy with other customers.\n",
    "* Not Ready Minutes: the amount of time after a call comes in or needs to go out where the assigned rep is not available because they are not ready (for example, getting water).\n",
    "* Incoming Wait Time - amount of time after assigned rep is available to take the call customer waits for representative to pick up a call. This is tracked in seconds.\n",
    "* During Call Wait Time - amount of time during call that customer has to wait for representative\n",
    "\n",
    "## Getting Started\n",
    "\n",
    "You have two CSVs at your disposal, `NorthCallCenter.csv` and `SouthCallCenter.csv`. Import the appropriate libraries and create two dataframes, one called `north_df` and one called `south_df`."
   ]
  },
  {
   "cell_type": "code",
   "execution_count": 242,
   "id": "f362436b",
   "metadata": {},
   "outputs": [],
   "source": [
    "# Import the appropriate libraries with aliases\n",
    "import pandas as pd\n",
    "import matplotlib.pyplot as plt\n",
    "from statsmodels.graphics.mosaicplot import mosaic\n",
    "import seaborn as sns\n",
    "import numpy as np\n",
    "\n",
    "# Create two new dataframes\n",
    "north_df = pd.read_csv('/Users/vasanthibodasingi/Desktop/LaunchCode/Womens+/call-center-cleanup-assignment/NorthCallCenter.csv')\n",
    "south_df = pd.read_csv('/Users/vasanthibodasingi/Desktop/LaunchCode/Womens+/call-center-cleanup-assignment/SouthCallCenter.csv')\n",
    "\n"
   ]
  },
  {
   "cell_type": "markdown",
   "id": "37f77cd4",
   "metadata": {},
   "source": [
    "<span style=\"background-color:orangered; color:orangered;\">- - - - - - - - - - - - - - - - - - - - - - - - - - - - - - - - - - - - - - - - - - - - - - - - - - - - - - - - - - - - - - - - - - - - - - - - - - - - - - - - - - - - - - - - -</span>"
   ]
  },
  {
   "cell_type": "markdown",
   "id": "b4d3484b",
   "metadata": {},
   "source": [
    "## Exploratory Data Analysis\n",
    "\n",
    "Time to do some EDA! In the process of learning more about the two datasets, answer the following questions. In the code blocks below enter the code used to solve the question.  At the end of the section record your answers by double clicking where asked."
   ]
  },
  {
   "cell_type": "markdown",
   "id": "76898991",
   "metadata": {},
   "source": [
    "#### EDA Question 1A:  How many reps are in the North branch?  "
   ]
  },
  {
   "cell_type": "code",
   "execution_count": 243,
   "id": "ce3eb5e4",
   "metadata": {},
   "outputs": [
    {
     "name": "stdout",
     "output_type": "stream",
     "text": [
      "reps in the North branch 9\n"
     ]
    }
   ],
   "source": [
    "#Code Used:\n",
    "\n",
    "\n",
    "north_df['Rep ID'].describe()\n",
    "n1= len(pd.unique(north_df['Rep ID']))\n",
    "print(\"reps in the North branch\" ,n1)"
   ]
  },
  {
   "cell_type": "markdown",
   "id": "2a9b34d8",
   "metadata": {},
   "source": [
    "#### EDA Question 1B:  How many reps are in the South branch?  "
   ]
  },
  {
   "cell_type": "code",
   "execution_count": 244,
   "id": "3c715bbf",
   "metadata": {},
   "outputs": [
    {
     "name": "stdout",
     "output_type": "stream",
     "text": [
      "reps in the South branch 11\n"
     ]
    }
   ],
   "source": [
    "#Code Used:\n",
    "n2 = len(pd.unique(south_df['Rep ID']))\n",
    "print(\"reps in the South branch\",n2)"
   ]
  },
  {
   "cell_type": "markdown",
   "id": "a872f045",
   "metadata": {},
   "source": [
    "#### EDA Question 2A:  What is the average busy minutes, not ready minutes, incoming wait time, and during call wait time for the North branch? 9.987755\t1.914286\t3.048780\t2.967347"
   ]
  },
  {
   "cell_type": "code",
   "execution_count": 245,
   "id": "3759305f",
   "metadata": {},
   "outputs": [
    {
     "name": "stdout",
     "output_type": "stream",
     "text": [
      "9.987755102040817 1.9142857142857144 3.048780487804878 2.9673469387755103\n"
     ]
    }
   ],
   "source": [
    "#Code Used:\n",
    "north_df.describe()\n",
    "print(north_df[('Busy Minutes')].mean(), north_df[('Not Ready Minutes')].mean(),\n",
    "      north_df[('Incoming Wait Time')].mean(), north_df[('During Call Wait Time')].mean())\n",
    "\n"
   ]
  },
  {
   "cell_type": "markdown",
   "id": "3851cf3e",
   "metadata": {},
   "source": [
    "#### EDA Question 2B:  What is the average busy minutes, not ready minutes, incoming wait time, and during call wait time for the South branch? 10.05414\t1.910828\t3.000000\t3.076433"
   ]
  },
  {
   "cell_type": "code",
   "execution_count": 246,
   "id": "a77ec152",
   "metadata": {},
   "outputs": [
    {
     "name": "stdout",
     "output_type": "stream",
     "text": [
      "10.054140127388536 1.910828025477707 3.0 3.0764331210191083\n"
     ]
    }
   ],
   "source": [
    "#Code Used:\n",
    "south_df.describe()\n",
    "\n",
    "print(south_df[('Busy Minutes')].mean(), south_df[('Not Ready Minutes')].mean(),\n",
    "      south_df[('Incoming Wait Time')].mean(), south_df[('During Call Wait Time')].mean())"
   ]
  },
  {
   "cell_type": "markdown",
   "id": "75915553",
   "metadata": {},
   "source": [
    "#### EDA Question 3:  What is the number of calls taken for each time block(Both North and South combined)?\n",
    "9:00 AM      10\n",
    "10:00 AM     99\n",
    "11:00 AM     56\n",
    "12:00 PM    120\n",
    "1:00 PM      40\n",
    "2:00 PM      65\n",
    "3:00 PM      73\n",
    "4:00 PM      53\n",
    "5:00 PM      43\n"
   ]
  },
  {
   "cell_type": "code",
   "execution_count": 247,
   "id": "49566936",
   "metadata": {},
   "outputs": [
    {
     "name": "stdout",
     "output_type": "stream",
     "text": [
      "Time Block\n",
      "10:00 AM     99\n",
      "11:00 AM     56\n",
      "12:00 PM    120\n",
      "1:00 PM      40\n",
      "2:00 PM      65\n",
      "3:00 PM      73\n",
      "4:00 PM      53\n",
      "5:00 PM      43\n",
      "9:00 AM      10\n",
      "dtype: int64\n"
     ]
    }
   ],
   "source": [
    "# Code Used:\n",
    "frames = [north_df, south_df]\n",
    "  \n",
    "df = pd.concat(frames)\n",
    "\n",
    "\n",
    "df2 = df.pivot_table(index = ['Time Block'], aggfunc ='size')\n",
    "print(df2)\n"
   ]
  },
  {
   "cell_type": "markdown",
   "id": "40b1fd3f",
   "metadata": {},
   "source": [
    "##### Record your answers for the EDA section by double clicking here:\n",
    "- 1a) Reps in the North Branch = 9\n",
    "- 1b) Reps in the South Branch = 11\n",
    "\n",
    "\n",
    "- 2a) North Branch, (round to the nearest hundredth):\n",
    "> - Busy Minutes = 9.987755\t\t\t\n",
    "> - Not Ready Minutes = 1.914286\n",
    "> - Incoming Wait Time = 3.048780\n",
    "> - During Call Wait Time = 2.967347\n",
    "- 2b) South Branch, (round to the nearest hundredth):\n",
    "> - Busy Minutes = 10.05414\t\t\t\t\n",
    "> - Not Ready Minutes = 1.910828\n",
    "> - Incoming Wait Time = 3.000000\n",
    "> - During Call Wait Time = 3.076433\n",
    "- 3) Total Calls taken for all branches per time block:\n",
    "> - 9:00AM   = 10\n",
    "> - 10:00AM  = 99\n",
    "> - 11:00AM  = 56\n",
    "> - 12:00PM  = 120\n",
    "> - 1:00PM   = 40\n",
    "> - 2:00PM   = 65\n",
    "> - 3:00PM   = 73\n",
    "> - 4:00PM   = 53\n",
    "> - 5:00PM   = 43\n",
    "\n"
   ]
  },
  {
   "cell_type": "markdown",
   "id": "446048d3",
   "metadata": {},
   "source": [
    "<span style=\"background-color:orangered; color:orangered;\">- - - - - - - - - - - - - - - - - - - - - - - - - - - - - - - - - - - - - - - - - - - - - - - - - - - - - - - - - - - - - - - - - - - - - - - - - - - - - - - - - - - - - - - - -</span>"
   ]
  },
  {
   "cell_type": "markdown",
   "id": "366bfb19",
   "metadata": {},
   "source": [
    "## Cleaning Your Data \n",
    "Now you need to clean up the datasets. When cleaning the datasets, you may find that there isn't dirty data to clean. That is okay! Some questions you need to answer about the data sets.\n",
    "* Add additional code blocks as needed to show how you came to your conclusions. Add comments in your code blocks to help others understand your thinking. "
   ]
  },
  {
   "cell_type": "markdown",
   "id": "c3564d69",
   "metadata": {},
   "source": [
    "#### Cleaning Question 1:  Is there any missing data and if yes explain what you would do with the missing data and why?\n",
    "##### Record your answer by double clicking here:\n",
    "> Your Answer: There is missing data in the Incoming Wait Time column, These are NaN because they belong to outgoing calls, I would convert the values from NaN to 0 so that all the data is numeric to perform analysis "
   ]
  },
  {
   "cell_type": "code",
   "execution_count": 248,
   "id": "b77fb574",
   "metadata": {},
   "outputs": [
    {
     "data": {
      "text/plain": [
       "Unnamed: 0               0\n",
       "Branch                   0\n",
       "Call Purpose             0\n",
       "Time Block               0\n",
       "Incoming or Outgoing     0\n",
       "Queue                    0\n",
       "Rep ID                   0\n",
       "Sale                     0\n",
       "Lost Call                0\n",
       "Abandoned                0\n",
       "Busy Minutes             0\n",
       "Not Ready Minutes        0\n",
       "Incoming Wait Time       0\n",
       "During Call Wait Time    0\n",
       "Calls                    0\n",
       "dtype: int64"
      ]
     },
     "execution_count": 248,
     "metadata": {},
     "output_type": "execute_result"
    }
   ],
   "source": [
    "# Code Used\n",
    "#df.isnull( ).sum( )#351\n",
    "\n",
    "# Add Additional Cells as needed.\n",
    "\n",
    "\n",
    "\n",
    "\n",
    "df = df.fillna(0)\n",
    "south_df = south_df.fillna(0)\n",
    "north_df = north_df.fillna(0)\n",
    "df.isnull().sum()\n",
    "\n",
    "\n",
    "\n"
   ]
  },
  {
   "cell_type": "markdown",
   "id": "dc47f020",
   "metadata": {},
   "source": [
    "#### Cleaning Question 2:  In the North data set, there are two separate \"YES\" values for a sale. Why and how did you rectify the issue?\n",
    "##### Record your answer by double clicking here:\n",
    "> Your Answer: To maintain consistancy in the data, I replaced the \"YES \" value containing space with \"YES\" using str.strip() function\n"
   ]
  },
  {
   "cell_type": "code",
   "execution_count": 249,
   "id": "4e0fbad6",
   "metadata": {},
   "outputs": [
    {
     "name": "stdout",
     "output_type": "stream",
     "text": [
      "sale values in the North branch ['NO' 'YES ' 'YES']\n",
      "latest sale values in the North branch ['NO' 'YES']\n"
     ]
    }
   ],
   "source": [
    "#Code Used\n",
    "\n",
    "north_df['Sale']\n",
    "values = pd.unique(north_df['Sale'])\n",
    "print(\"sale values in the North branch\" ,values)\n",
    "\n",
    "# Add Additional Cells as needed.\n",
    "north_df['Sale'] = north_df['Sale'].str.strip()\n",
    "values1 = pd.unique(north_df['Sale'])\n",
    "print(\"latest sale values in the North branch\" ,values1)\n"
   ]
  },
  {
   "cell_type": "markdown",
   "id": "715f375a",
   "metadata": {},
   "source": [
    "#### Cleaning Question 3:  Are there duplicates in the two data sets? If there are, how did you handle them?\n",
    "##### Record your answer by double clicking here:\n",
    "> Your Answer: Yes there are duplicates in the two data sets. I dropped the duplicates."
   ]
  },
  {
   "cell_type": "code",
   "execution_count": 250,
   "id": "2323673a",
   "metadata": {},
   "outputs": [
    {
     "data": {
      "text/plain": [
       "0"
      ]
     },
     "execution_count": 250,
     "metadata": {},
     "output_type": "execute_result"
    }
   ],
   "source": [
    "#Code Used\n",
    "duplicates1 = north_df.duplicated()\n",
    "duplicates2 = south_df.duplicated()\n",
    "duplicates3 = df.duplicated()\n",
    "duplicates1.sum()\n",
    "duplicates2.sum()\n",
    "duplicates3.sum()\n",
    "\n",
    "# Add Additional Cells as needed.\n",
    "\n",
    "#dropping duplicate values \n",
    "df = df.drop_duplicates()\n",
    "north_df = north_df.drop_duplicates()\n",
    "south_df = south_df.drop_duplicates()\n",
    "duplicates1 = north_df.duplicated()\n",
    "duplicates1.sum()\n",
    "duplicates2 = south_df.duplicated()\n",
    "duplicates2.sum()"
   ]
  },
  {
   "cell_type": "markdown",
   "id": "8ffaa865",
   "metadata": {},
   "source": [
    "#### Cleaning Question 4:  Is any of the data in the two data sets unnecessary? If yes, how did you handle it?\n",
    "##### Record your answer by double clicking here:\n",
    "> Your Answer: Yes, the column named 'Unnamed: 0' in both the datasets is not necessary so I dropped it."
   ]
  },
  {
   "cell_type": "code",
   "execution_count": 251,
   "id": "78b45e70",
   "metadata": {},
   "outputs": [
    {
     "name": "stdout",
     "output_type": "stream",
     "text": [
      "Index(['Branch', 'Call Purpose', 'Time Block', 'Incoming or Outgoing', 'Queue',\n",
      "       'Rep ID', 'Sale', 'Lost Call', 'Abandoned', 'Busy Minutes',\n",
      "       'Not Ready Minutes', 'Incoming Wait Time', 'During Call Wait Time',\n",
      "       'Calls'],\n",
      "      dtype='object')\n",
      "Index(['Branch', 'Call Purpose', 'Time Block', 'Incoming or Outgoing', 'Queue',\n",
      "       'Rep ID', 'Sale', 'Lost Call', 'Abandoned', 'Busy Minutes',\n",
      "       'Not Ready Minutes', 'Incoming Wait Time', 'During Call Wait Time',\n",
      "       'Calls'],\n",
      "      dtype='object')\n",
      "Index(['Branch', 'Call Purpose', 'Time Block', 'Incoming or Outgoing', 'Queue',\n",
      "       'Rep ID', 'Sale', 'Lost Call', 'Abandoned', 'Busy Minutes',\n",
      "       'Not Ready Minutes', 'Incoming Wait Time', 'During Call Wait Time',\n",
      "       'Calls'],\n",
      "      dtype='object')\n"
     ]
    }
   ],
   "source": [
    "#Code Used\n",
    "df.head()\n",
    "north_df.head()\n",
    "south_df.columns\n",
    "# Add Additional Cells as needed.\n",
    "df = df.drop(columns='Unnamed: 0')\n",
    "north_df = north_df.drop(columns='Unnamed: 0')\n",
    "south_df = south_df.drop(columns='Unnamed: 0')\n",
    "\n",
    "print(south_df.columns)\n",
    "print(north_df.columns)\n",
    "print(df.columns)"
   ]
  },
  {
   "cell_type": "markdown",
   "id": "f67d89ab",
   "metadata": {},
   "source": [
    "<span style=\"background-color:orangered; color:orangered;\">- - - - - - - - - - - - - - - - - - - - - - - - - - - - - - - - - - - - - - - - - - - - - - - - - - - - - - - - - - - - - - - - - - - - - - - - - - - - - - - - - - - - - - - - -</span>"
   ]
  },
  {
   "cell_type": "markdown",
   "id": "73342a9a",
   "metadata": {},
   "source": [
    "## Data Manipulation\n",
    "Before you begin answering any questions, combine the two datasets together to create a third dataframe called df. You can use this third dataframe to compare the two call centers to company-wide trends.\n",
    "* Add additional code blocks as needed to show how you came to your conclusions. Add comments in your code blocks to help others understand your thinking. Record your answer by double clicking the below cell."
   ]
  },
  {
   "cell_type": "code",
   "execution_count": 252,
   "id": "e9705c34",
   "metadata": {},
   "outputs": [
    {
     "name": "stdout",
     "output_type": "stream",
     "text": [
      "<class 'pandas.core.frame.DataFrame'>\n",
      "Int64Index: 559 entries, 0 to 313\n",
      "Data columns (total 14 columns):\n",
      " #   Column                 Non-Null Count  Dtype  \n",
      "---  ------                 --------------  -----  \n",
      " 0   Branch                 559 non-null    object \n",
      " 1   Call Purpose           559 non-null    object \n",
      " 2   Time Block             559 non-null    object \n",
      " 3   Incoming or Outgoing   559 non-null    object \n",
      " 4   Queue                  559 non-null    object \n",
      " 5   Rep ID                 559 non-null    object \n",
      " 6   Sale                   559 non-null    object \n",
      " 7   Lost Call              559 non-null    int64  \n",
      " 8   Abandoned              559 non-null    int64  \n",
      " 9   Busy Minutes           559 non-null    int64  \n",
      " 10  Not Ready Minutes      559 non-null    int64  \n",
      " 11  Incoming Wait Time     559 non-null    float64\n",
      " 12  During Call Wait Time  559 non-null    int64  \n",
      " 13  Calls                  559 non-null    int64  \n",
      "dtypes: float64(1), int64(6), object(7)\n",
      "memory usage: 65.5+ KB\n"
     ]
    }
   ],
   "source": [
    "# Create dataframe for the entire company named df\n",
    "\n",
    "frames = [north_df, south_df]\n",
    "  \n",
    "df = pd.concat(frames)\n",
    "df.info()"
   ]
  },
  {
   "cell_type": "markdown",
   "id": "7e87dfd1",
   "metadata": {},
   "source": [
    "#### Manipulation Question 1:  Group by Rep ID and sum the resulting structure. Sort by calls to determine which rep in each branch has the highest number of calls.\n",
    "\n",
    "##### Record your answer by double clicking here:\n",
    "Rep with the hightest number of calls and their total calls:\n",
    "- North Branch = Brent--> 37\n",
    "- South Branch = Eric --> 35\n"
   ]
  },
  {
   "cell_type": "code",
   "execution_count": 253,
   "id": "3953f09a",
   "metadata": {},
   "outputs": [
    {
     "name": "stderr",
     "output_type": "stream",
     "text": [
      "/var/folders/4_/csfhcjc13fggd9xsvd410f8w0000gn/T/ipykernel_1756/191660096.py:4: FutureWarning: The default value of numeric_only in DataFrameGroupBy.sum is deprecated. In a future version, numeric_only will default to False. Either specify numeric_only or select only columns which should be valid for the function.\n",
      "  north_df.groupby([\"Rep ID\"]).sum().sort_values(\"Calls\", ascending=False)\n",
      "/var/folders/4_/csfhcjc13fggd9xsvd410f8w0000gn/T/ipykernel_1756/191660096.py:5: FutureWarning: The default value of numeric_only in DataFrameGroupBy.sum is deprecated. In a future version, numeric_only will default to False. Either specify numeric_only or select only columns which should be valid for the function.\n",
      "  south_df.groupby([\"Rep ID\"]).sum().sort_values(\"Calls\", ascending=False)\n"
     ]
    },
    {
     "data": {
      "text/html": [
       "<div>\n",
       "<style scoped>\n",
       "    .dataframe tbody tr th:only-of-type {\n",
       "        vertical-align: middle;\n",
       "    }\n",
       "\n",
       "    .dataframe tbody tr th {\n",
       "        vertical-align: top;\n",
       "    }\n",
       "\n",
       "    .dataframe thead th {\n",
       "        text-align: right;\n",
       "    }\n",
       "</style>\n",
       "<table border=\"1\" class=\"dataframe\">\n",
       "  <thead>\n",
       "    <tr style=\"text-align: right;\">\n",
       "      <th></th>\n",
       "      <th>Lost Call</th>\n",
       "      <th>Abandoned</th>\n",
       "      <th>Busy Minutes</th>\n",
       "      <th>Not Ready Minutes</th>\n",
       "      <th>Incoming Wait Time</th>\n",
       "      <th>During Call Wait Time</th>\n",
       "      <th>Calls</th>\n",
       "    </tr>\n",
       "    <tr>\n",
       "      <th>Rep ID</th>\n",
       "      <th></th>\n",
       "      <th></th>\n",
       "      <th></th>\n",
       "      <th></th>\n",
       "      <th></th>\n",
       "      <th></th>\n",
       "      <th></th>\n",
       "    </tr>\n",
       "  </thead>\n",
       "  <tbody>\n",
       "    <tr>\n",
       "      <th>Eric</th>\n",
       "      <td>0</td>\n",
       "      <td>0</td>\n",
       "      <td>361</td>\n",
       "      <td>54</td>\n",
       "      <td>47.0</td>\n",
       "      <td>112</td>\n",
       "      <td>35</td>\n",
       "    </tr>\n",
       "    <tr>\n",
       "      <th>Randy</th>\n",
       "      <td>3</td>\n",
       "      <td>1</td>\n",
       "      <td>320</td>\n",
       "      <td>66</td>\n",
       "      <td>47.0</td>\n",
       "      <td>98</td>\n",
       "      <td>33</td>\n",
       "    </tr>\n",
       "    <tr>\n",
       "      <th>Sandy</th>\n",
       "      <td>1</td>\n",
       "      <td>0</td>\n",
       "      <td>325</td>\n",
       "      <td>60</td>\n",
       "      <td>34.0</td>\n",
       "      <td>100</td>\n",
       "      <td>32</td>\n",
       "    </tr>\n",
       "    <tr>\n",
       "      <th>Helga</th>\n",
       "      <td>0</td>\n",
       "      <td>2</td>\n",
       "      <td>292</td>\n",
       "      <td>58</td>\n",
       "      <td>36.0</td>\n",
       "      <td>95</td>\n",
       "      <td>31</td>\n",
       "    </tr>\n",
       "    <tr>\n",
       "      <th>George</th>\n",
       "      <td>0</td>\n",
       "      <td>0</td>\n",
       "      <td>298</td>\n",
       "      <td>53</td>\n",
       "      <td>41.0</td>\n",
       "      <td>87</td>\n",
       "      <td>29</td>\n",
       "    </tr>\n",
       "    <tr>\n",
       "      <th>Kate</th>\n",
       "      <td>0</td>\n",
       "      <td>0</td>\n",
       "      <td>291</td>\n",
       "      <td>61</td>\n",
       "      <td>37.0</td>\n",
       "      <td>83</td>\n",
       "      <td>29</td>\n",
       "    </tr>\n",
       "    <tr>\n",
       "      <th>Karl</th>\n",
       "      <td>1</td>\n",
       "      <td>0</td>\n",
       "      <td>287</td>\n",
       "      <td>61</td>\n",
       "      <td>26.0</td>\n",
       "      <td>85</td>\n",
       "      <td>28</td>\n",
       "    </tr>\n",
       "    <tr>\n",
       "      <th>Josh</th>\n",
       "      <td>3</td>\n",
       "      <td>0</td>\n",
       "      <td>260</td>\n",
       "      <td>50</td>\n",
       "      <td>31.0</td>\n",
       "      <td>83</td>\n",
       "      <td>26</td>\n",
       "    </tr>\n",
       "    <tr>\n",
       "      <th>Susan</th>\n",
       "      <td>2</td>\n",
       "      <td>0</td>\n",
       "      <td>267</td>\n",
       "      <td>53</td>\n",
       "      <td>35.0</td>\n",
       "      <td>88</td>\n",
       "      <td>26</td>\n",
       "    </tr>\n",
       "    <tr>\n",
       "      <th>Sharon</th>\n",
       "      <td>1</td>\n",
       "      <td>1</td>\n",
       "      <td>257</td>\n",
       "      <td>38</td>\n",
       "      <td>29.0</td>\n",
       "      <td>77</td>\n",
       "      <td>25</td>\n",
       "    </tr>\n",
       "    <tr>\n",
       "      <th>Alice</th>\n",
       "      <td>0</td>\n",
       "      <td>0</td>\n",
       "      <td>199</td>\n",
       "      <td>46</td>\n",
       "      <td>15.0</td>\n",
       "      <td>58</td>\n",
       "      <td>20</td>\n",
       "    </tr>\n",
       "  </tbody>\n",
       "</table>\n",
       "</div>"
      ],
      "text/plain": [
       "        Lost Call  Abandoned  Busy Minutes  Not Ready Minutes  \\\n",
       "Rep ID                                                          \n",
       "Eric            0          0           361                 54   \n",
       "Randy           3          1           320                 66   \n",
       "Sandy           1          0           325                 60   \n",
       "Helga           0          2           292                 58   \n",
       "George          0          0           298                 53   \n",
       "Kate            0          0           291                 61   \n",
       "Karl            1          0           287                 61   \n",
       "Josh            3          0           260                 50   \n",
       "Susan           2          0           267                 53   \n",
       "Sharon          1          1           257                 38   \n",
       "Alice           0          0           199                 46   \n",
       "\n",
       "        Incoming Wait Time  During Call Wait Time  Calls  \n",
       "Rep ID                                                    \n",
       "Eric                  47.0                    112     35  \n",
       "Randy                 47.0                     98     33  \n",
       "Sandy                 34.0                    100     32  \n",
       "Helga                 36.0                     95     31  \n",
       "George                41.0                     87     29  \n",
       "Kate                  37.0                     83     29  \n",
       "Karl                  26.0                     85     28  \n",
       "Josh                  31.0                     83     26  \n",
       "Susan                 35.0                     88     26  \n",
       "Sharon                29.0                     77     25  \n",
       "Alice                 15.0                     58     20  "
      ]
     },
     "execution_count": 253,
     "metadata": {},
     "output_type": "execute_result"
    }
   ],
   "source": [
    "# Code Used\n",
    "gb1 = df.groupby(\"Rep ID\")\n",
    "gb1.first()\n",
    "north_df.groupby([\"Rep ID\"]).sum().sort_values(\"Calls\", ascending=False)\n",
    "south_df.groupby([\"Rep ID\"]).sum().sort_values(\"Calls\", ascending=False)\n",
    "\n",
    "# Add Additional Cells as needed."
   ]
  },
  {
   "cell_type": "code",
   "execution_count": null,
   "id": "48898029",
   "metadata": {},
   "outputs": [],
   "source": []
  },
  {
   "cell_type": "markdown",
   "id": "809293b9",
   "metadata": {},
   "source": [
    "#### Manipulation Question 2:  The average call abandonment rate is a KPI when it comes to determining call center efficiency. As you may recall, abandoned calls are calls where the customer hangs up due to long call times. What is the average call abandonment rate for each branch and the whole company? Do any of these fall out of the optimal range of 2-5%?\n",
    "##### Record your answer by double clicking here:\n",
    "Average Call Abandonment Rates (round to the nearest hundredth):\n",
    "- North Branch = 2.857%\n",
    "- South Branch = 1.273%\n",
    "- Company Wide = 1.967%\n",
    "- Do any of these fall out of the optimal range of 2-5%? -->south branch has average call abandoned rate as 1.27% it is doing better than optimal range"
   ]
  },
  {
   "cell_type": "code",
   "execution_count": 254,
   "id": "3dff7534",
   "metadata": {},
   "outputs": [
    {
     "name": "stdout",
     "output_type": "stream",
     "text": [
      "  Branch     Call Purpose Time Block Incoming or Outgoing Queue Rep ID Sale  \\\n",
      "0  North        Complaint    9:00 AM             Incoming     B  Brent   NO   \n",
      "1  North    Sales Support   11:00 AM             Incoming     A    Cam   NO   \n",
      "2  North    Sales Support   11:00 AM             Incoming     B   Todd   NO   \n",
      "3  North    Sales Support    4:00 PM             Incoming     B  Brent   NO   \n",
      "4  North  Product Support   12:00 PM             Incoming     B  Brent   NO   \n",
      "\n",
      "   Lost Call  Abandoned  Busy Minutes  Not Ready Minutes  Incoming Wait Time  \\\n",
      "0          0          1             9                  2                 1.0   \n",
      "1          0          0            11                  1                 1.0   \n",
      "2          0          0             9                  3                 1.0   \n",
      "3          0          0            11                  2                 1.0   \n",
      "4          0          0             8                  2                 1.0   \n",
      "\n",
      "   During Call Wait Time  Calls  \n",
      "0                      4      1  \n",
      "1                      3      1  \n",
      "2                      3      1  \n",
      "3                      4      1  \n",
      "4                      4      1  \n",
      "11\n",
      "559\n",
      "%calls abandoned in company 1.9677996422182469\n",
      "7\n",
      "245\n",
      "%calls abandoned in north branch 2.857142857142857\n",
      "4\n",
      "314\n",
      "%calls abandoned in south brnach 1.2738853503184715\n"
     ]
    }
   ],
   "source": [
    "# Code Used\n",
    "print(df.head())\n",
    "\n",
    "ac = (df['Abandoned'] == 1).sum()\n",
    "tc = (df['Calls'] == 1).sum()\n",
    "print(ac)\n",
    "print(tc)\n",
    "print(\"%calls abandoned in company\", (ac/tc)*100)\n",
    "\n",
    "\n",
    "acn =(north_df['Abandoned'] == 1).sum()\n",
    "tcn = (north_df['Calls'] == 1).sum()\n",
    "print(acn)\n",
    "print(tcn)\n",
    "print(\"%calls abandoned in north branch\", (acn/tcn)*100)\n",
    "\n",
    "acs =(south_df['Abandoned'] == 1).sum()\n",
    "tcs = (south_df['Calls'] == 1).sum()\n",
    "print(acs)\n",
    "print(tcs)\n",
    "print(\"%calls abandoned in south brnach\", (acs/tcs)*100)\n",
    "\n",
    "\n",
    "\n",
    "\n",
    "# Add Additional Cells as needed."
   ]
  },
  {
   "cell_type": "markdown",
   "id": "598bb1bf",
   "metadata": {},
   "source": [
    "#### Manipulation Question 3:  Service level is another KPI when it comes to measuring call center efficiency. Service level is the percentage of calls answered within a specific number of seconds. In the case of your employer, their ideal time frame is 2 seconds. What is the percentage of calls answered within 2 seconds for each branch and the entire company?\n",
    "##### Record your answer by double clicking here:\n",
    "Percentage of calls answered within 2 seconds, include # of calls:\n",
    "- North Branch = 33 , 40.24%\n",
    "- South Branch = 48 , 38.09%\n",
    "- Company Wide = 81 , 38.94%"
   ]
  },
  {
   "cell_type": "code",
   "execution_count": 255,
   "id": "2fc8f669",
   "metadata": {},
   "outputs": [
    {
     "name": "stdout",
     "output_type": "stream",
     "text": [
      "33\n",
      "82\n",
      "percentage of calls answered within 2 seconds in north branch is 40.243902439024396\n",
      "48\n",
      "126\n",
      "percentage of calls answered within 2 seconds in south branch is 38.095238095238095\n",
      "81\n",
      "208\n",
      "percentage of calls answered within 2 seconds company wide 38.94230769230769\n"
     ]
    }
   ],
   "source": [
    "# Code Used\n",
    "\n",
    "\n",
    "\n",
    "# Get count of values less than 2 in the column \n",
    "count1 = north_df['Incoming or Outgoing'][(north_df['Incoming Wait Time'] > 0) & (north_df['Incoming Wait Time'] <= 2)].count()         \n",
    "#total incoming calls    \n",
    "counttotal1 = north_df['Incoming or Outgoing'][north_df['Incoming or Outgoing'] == 'Incoming'].count()\n",
    "#percentage\n",
    "p1 =(count1/counttotal1)*100\n",
    "print(count1)\n",
    "print(counttotal1)\n",
    "print(\"percentage of calls answered within 2 seconds in north branch is\",p1 )\n",
    "\n",
    "\n",
    "# Get count of values less than 2 in the column \n",
    "count2 = south_df['Incoming Wait Time'][(south_df['Incoming Wait Time'] > 0)& (south_df['Incoming Wait Time'] <= 2)].count()\n",
    "          \n",
    "#total incoming calls    \n",
    "counttotal2 = south_df['Incoming or Outgoing'][south_df['Incoming or Outgoing'] == 'Incoming'].count()\n",
    "counttotal2\n",
    "#percentage\n",
    "p2 =(count2/counttotal2)*100\n",
    "print(count2)\n",
    "print(counttotal2)\n",
    "print(\"percentage of calls answered within 2 seconds in south branch is\",p2)\n",
    "\n",
    "# Get count of values greater than 2 in the column \n",
    "count3 = df['Incoming Wait Time'][(df['Incoming Wait Time'] > 0)&(df['Incoming Wait Time'] <= 2)].count()\n",
    "            \n",
    "#total incoming calls    \n",
    "counttotal3 = df['Incoming or Outgoing'][df['Incoming or Outgoing'] == 'Incoming'].count()\n",
    "#percentage\n",
    "p3 =(count3/counttotal3)*100\n",
    "print(count3)\n",
    "print(counttotal3)\n",
    "print(\"percentage of calls answered within 2 seconds company wide\",p3)\n",
    "\n",
    "#south_df[south_df['Incoming Wait Time'] <= 2.0].count()\n",
    "#south_df[south_df['Incoming or Outgoing'] == 'Incoming'].count()\n",
    "\n",
    "\n",
    "\n"
   ]
  },
  {
   "cell_type": "markdown",
   "id": "7e19e705",
   "metadata": {},
   "source": [
    "#### Manipulation Question 4: For each branch and the entire company, what is the average speed of answer?\n",
    "##### Record your answer by double clicking here:\n",
    "Average speed of answer (rounded to nearest hundredth):\n",
    "- North Branch in seconds = 3.0487 seconds\n",
    "- South Branch in seconds = 3.0 seconds\n",
    "- Company Wide in seconds = 3.0192 seconds\n"
   ]
  },
  {
   "cell_type": "code",
   "execution_count": 256,
   "id": "3c4f6a6e",
   "metadata": {},
   "outputs": [
    {
     "name": "stdout",
     "output_type": "stream",
     "text": [
      "3.019230769230769 3.048780487804878 3.0\n"
     ]
    }
   ],
   "source": [
    "#code\n",
    "\n",
    "# Filter the incoming calls for company\n",
    "Incomingcallsdf = df[df['Incoming or Outgoing'] == 'Incoming']\n",
    "\n",
    "# Calculate the average speed of answer for company\n",
    "asadf = Incomingcallsdf['Incoming Wait Time'].mean()\n",
    "\n",
    "\n",
    "\n",
    "# Filter the incoming calls for north branch\n",
    "Incomingcallsndf = north_df[north_df['Incoming or Outgoing'] == 'Incoming']\n",
    "\n",
    "# Calculate the average speed of answer north branch\n",
    "asandf = Incomingcallsndf['Incoming Wait Time'].mean()\n",
    "\n",
    "\n",
    "\n",
    "# Filter the incoming calls for south branch\n",
    "Incomingcallssdf = south_df[south_df['Incoming or Outgoing'] == 'Incoming']\n",
    "\n",
    "# Calculate the average speed of answer for south branch \n",
    "asasdf = Incomingcallssdf['Incoming Wait Time'].mean()\n",
    "\n",
    "print(asadf, asandf, asasdf)\n",
    "\n"
   ]
  },
  {
   "cell_type": "markdown",
   "id": "ba3ca2cd",
   "metadata": {},
   "source": [
    "<span style=\"background-color:orangered; color:orangered;\">- - - - - - - - - - - - - - - - - - - - - - - - - - - - - - - - - - - - - - - - - - - - - - - - - - - - - - - - - - - - - - - - - - - - - - - - - - - - - - - - - - - - - - - - -</span>"
   ]
  },
  {
   "cell_type": "markdown",
   "id": "d5f50a40",
   "metadata": {},
   "source": [
    "## Visualization\n",
    "\n",
    "Create a visualization for each of the following questions. Some of the code to handle aggregating and storing data may be written for you. For each visualization, you choose the chart style that you feel suits the situation best. Make note of the chart style you chose and why. \n",
    "\n",
    "*NOTE Some questions you may decide to use more than one chart and or chart style."
   ]
  },
  {
   "cell_type": "markdown",
   "id": "66ccf83c",
   "metadata": {},
   "source": [
    "#### Visualization 1:  What is the average abandonment rate per queue?\n",
    "##### Record your answer by double clicking here: 'A': 0.041666666666666664, 'B': 0.020134228187919462, 'C': 0.007246376811594203, 'D': 0.017045454545454544\n",
    "\n",
    "> Chart style you chose and why: Bar chart, because is used to display and compare categorical data. It consists of rectangular bars where the length of each bar is proportional to the value it represents. In this case we have 4 categories and their corresponding values so I used Bar chart"
   ]
  },
  {
   "cell_type": "code",
   "execution_count": 257,
   "id": "c971d779",
   "metadata": {},
   "outputs": [
    {
     "name": "stderr",
     "output_type": "stream",
     "text": [
      "/var/folders/4_/csfhcjc13fggd9xsvd410f8w0000gn/T/ipykernel_1756/600391544.py:10: FutureWarning: The default value of numeric_only in DataFrameGroupBy.sum is deprecated. In a future version, numeric_only will default to False. Either specify numeric_only or select only columns which should be valid for the function.\n",
      "  queue_dict = df.groupby(\"Queue\").agg(\"sum\")\n"
     ]
    },
    {
     "data": {
      "image/png": "[encoded data removed]",
      "text/plain": [
       "<Figure size 640x480 with 1 Axes>"
      ]
     },
     "metadata": {},
     "output_type": "display_data"
    },
    {
     "name": "stdout",
     "output_type": "stream",
     "text": [
      "{'A': 0.041666666666666664, 'B': 0.020134228187919462, 'C': 0.007246376811594203, 'D': 0.017045454545454544}\n"
     ]
    }
   ],
   "source": [
    "# Create visualization 1 here\n",
    "# Import any additional libraries needed with alias\n",
    "\n",
    "\n",
    "\n",
    "# The dictionary abandonment_rates has the data you need.\n",
    "abandonment_rates = {}\n",
    "queues = [\"A\", \"B\", \"C\", \"D\"]\n",
    "rate = [0,0,0,0]\n",
    "queue_dict = df.groupby(\"Queue\").agg(\"sum\")\n",
    "for i in range(4):\n",
    "    abandonment_rates[queues[i]] = queue_dict[\"Abandoned\"][i] / queue_dict[\"Calls\"][i] \n",
    "    rate[i] = queue_dict[\"Abandoned\"][i] / queue_dict[\"Calls\"][i]\n",
    "    \n",
    "#Your Code Here:\n",
    "\n",
    "data = {'Queue': queues,\n",
    "        'Rate': rate}\n",
    "df1 = pd.DataFrame(data)\n",
    "\n",
    "# Generate the bar chart\n",
    "df1.plot(kind='bar', x='Queue', y='Rate')\n",
    "\n",
    "# Customize the plot\n",
    "plt.xlabel('Queue')\n",
    "plt.ylabel('Rate')\n",
    "plt.title('Bar Chart')\n",
    "plt.show()\n",
    "\n",
    "print(abandonment_rates)\n"
   ]
  },
  {
   "cell_type": "markdown",
   "id": "4a9fc77f",
   "metadata": {},
   "source": [
    "#### Visualization 2: What is the service level percentage and average speed of answer for each rep in the North Branch?\n",
    "##### Record your answer by double clicking here:    \n",
    "   Amanda             23.809524            0.521739\n",
    "1    Andy             62.500000            1.565217\n",
    "2   Brent             22.857143            0.459459\n",
    "3     Cam             61.111111            1.333333\n",
    "4    Duke             66.666667            1.344828\n",
    "5     Joe             55.555556            1.384615\n",
    "6   Lilly             54.545455            1.233333\n",
    "7    Todd             24.000000            0.724138\n",
    "8  Xander             30.000000            0.833333\n",
    "\n",
    "> Chart style you chose and why: grouped bar chart because A grouped bar chart is used when you want to compare the values of multiple categories within each main category. In this case we have 9 representatives and 2 values for each representative so I though I can go with bar chart."
   ]
  },
  {
   "cell_type": "code",
   "execution_count": 258,
   "id": "61f65a7f",
   "metadata": {},
   "outputs": [
    {
     "name": "stdout",
     "output_type": "stream",
     "text": [
      "   Rep ID  Calls_x  Calls_y  Service Level %  Incoming Wait Time\n",
      "0  Amanda       21        5        23.809524            0.521739\n",
      "1    Andy       16       10        62.500000            1.565217\n",
      "2   Brent       35        8        22.857143            0.459459\n",
      "3     Cam       18       11        61.111111            1.333333\n",
      "4    Duke       21       14        66.666667            1.344828\n",
      "5     Joe       18       10        55.555556            1.384615\n",
      "6   Lilly       22       12        54.545455            1.233333\n",
      "7    Todd       25        6        24.000000            0.724138\n",
      "8  Xander       20        6        30.000000            0.833333\n"
     ]
    },
    {
     "data": {
      "image/png": "[encoded data removed]",
      "text/plain": [
       "<Figure size 640x480 with 1 Axes>"
      ]
     },
     "metadata": {},
     "output_type": "display_data"
    }
   ],
   "source": [
    "# Create visualization 2 here\n",
    "# north_plt contains the data you need for the average speed of answer of each rep\n",
    "\n",
    "north_plt = north_df.groupby(\"Rep ID\")[\"Incoming Wait Time\"].mean().to_frame().reset_index()\n",
    "\n",
    "# Finding each Rep's Personal Service Level Percentage.  Basically, Calls within 2 secs / total calls\n",
    "\n",
    "# Table 1: Total Incoming calls less than 2 seconds grouped by Rep\n",
    "quick_calls = north_df[north_df[\"Incoming Wait Time\"] <= 2.0]\n",
    "quick_reps = quick_calls[[\"Rep ID\", \"Calls\"]]\n",
    "quick_stats = quick_reps.groupby([\"Rep ID\"]).sum()  # Final Table\n",
    "\n",
    "\n",
    "# Table 2: Total Incoming Calls Only grouped by Rep\n",
    "total_calls_in = north_df[north_df[\"Incoming or Outgoing\"] == \"Incoming\"]\n",
    "rep_calls = total_calls_in[[\"Rep ID\", \"Calls\"]]     \n",
    "total_stats = rep_calls.groupby([\"Rep ID\"]).sum() # Final Table  \n",
    "\n",
    "#  Table 3: Service Level Percentage created via merge\n",
    "service_level = pd.merge(quick_stats, total_stats, on=\"Rep ID\")\n",
    "\n",
    "# Create Percentage Column in Table 3\n",
    "service_level[\"Service Level %\"] = service_level[\"Calls_y\"]/service_level[\"Calls_x\"] * 100\n",
    "\n",
    "data = pd.merge(service_level, north_plt, on=\"Rep ID\")\n",
    "#Your Code Here:\n",
    "\n",
    "print(data)\n",
    "\n",
    "vdf = pd.DataFrame(data)\n",
    "\n",
    "\n",
    "\n",
    "Reps = ['Brent', 'Cam', 'Todd', 'Duke', 'Joe', 'Lilly', 'Amanda', 'Andy',\n",
    "       'Xander']\n",
    "labels = ['Service Level %', 'average speed of answer']\n",
    "\n",
    "values_servicelevel = [23.809524, 62.500000, 22.857143, 61.111111, 66.666667,55.555556,54.545455,24.000000,30.000000 ]\n",
    "values_speedofanswer = [0.52, 1.56, 0.46,1.33,1.34,1.38,1.23,0.72, 0.83]\n",
    "\n",
    "\n",
    "# Set the positions for the bars\n",
    "x = np.arange(len(Reps))\n",
    "\n",
    "# Define the width of the bars\n",
    "width = 0.35\n",
    "\n",
    "# Create the grouped bar chart\n",
    "plt.bar(x - width/2, values_servicelevel, width, label='Service Level %')\n",
    "plt.bar(x + width/2, values_speedofanswer, width, label='average speed of answer')\n",
    "\n",
    "# Adding labels and title\n",
    "plt.xlabel('Reps')\n",
    "plt.ylabel('Values')\n",
    "plt.title('Grouped Bar Chart')\n",
    "plt.xticks(x, Reps, rotation=45, ha='right')  # Rotate category labels for better visibility\n",
    "plt.legend()\n",
    "\n",
    "# Show the chart\n",
    "plt.tight_layout()\n",
    "plt.show()\n",
    "\n"
   ]
  },
  {
   "cell_type": "markdown",
   "id": "f965e41a",
   "metadata": {},
   "source": [
    "#### Visualization 3: For each type of call purpose, how many calls are outgoing vs. incoming?\n",
    "##### Record your answer by double clicking here: \n",
    "Call Purpose     Incoming or Outgoing\n",
    "Complaint        Incoming                 51\n",
    "Product Support  Outgoing                228\n",
    "                 Incoming                 82\n",
    "Sales Support    Outgoing                123\n",
    "                 Incoming                 75\n",
    "\n",
    "> Chart style you chose and why: Mosaic plot because it shows possible relationships between categorical variables. Here we have incoming and outgoing call categories for 3 different call purposes so Mosaic plot can be used here"
   ]
  },
  {
   "cell_type": "code",
   "execution_count": 259,
   "id": "44096730",
   "metadata": {},
   "outputs": [
    {
     "name": "stdout",
     "output_type": "stream",
     "text": [
      "Call Purpose     Incoming or Outgoing\n",
      "Complaint        Incoming                 51\n",
      "Product Support  Outgoing                228\n",
      "                 Incoming                 82\n",
      "Sales Support    Outgoing                123\n",
      "                 Incoming                 75\n",
      "Name: Incoming or Outgoing, dtype: int64\n",
      "{'Incoming': 51}\n",
      "{'Outgoing': 123, 'Incoming': 75}\n",
      "{'Outgoing': 228, 'Incoming': 82}\n"
     ]
    }
   ],
   "source": [
    "# Create visualization 3 here:\n",
    "# The three dictionaries, complaints, sales_support, and product_support, have the information you need\n",
    "\n",
    "purpose_group = df.groupby(\"Call Purpose\")\n",
    "call_purpose = [\"Complaint\", \"Product Support\", \"Sales Support\"]\n",
    "purpose_counts = purpose_group[\"Incoming or Outgoing\"].value_counts()\n",
    "print(purpose_counts)\n",
    "\n",
    "complaints = purpose_counts[\"Complaint\"].to_dict()\n",
    "sales_support = purpose_counts[\"Sales Support\"].to_dict()\n",
    "product_support = purpose_counts[\"Product Support\"].to_dict()\n",
    "\n",
    "#Your Code Here:\n",
    "print(complaints)\n",
    "print(sales_support)\n",
    "print(product_support)\n",
    "\n",
    "\n",
    "\n",
    "\n",
    "categories = ['Incoming', 'Outgoing']\n",
    "callpurpose = [\"Complaint\", \"Product Support\", \"Sales Support\"]\n",
    "\n",
    "\n",
    "\n",
    "\n"
   ]
  },
  {
   "cell_type": "markdown",
   "id": "f506d26d",
   "metadata": {},
   "source": [
    "<span style=\"background-color:orangered; color:orangered;\">- - - - - - - - - - - - - - - - - - - - - - - - - - - - - - - - - - - - - - - - - - - - - - - - - - - - - - - - - - - - - - - - - - - - - - - - - - - - - - - - - - - - - - - - -</span>"
   ]
  },
  {
   "cell_type": "markdown",
   "id": "ea7ed568",
   "metadata": {},
   "source": [
    "## Summarize Your Work\n",
    "\n",
    "With what you know now about the two call centers and the entire company, answer the following questions. Note that while this is subjective, you should include relevant data to back up your opinion.\n"
   ]
  },
  {
   "cell_type": "markdown",
   "id": "d2fc3d13",
   "metadata": {},
   "source": [
    "#### Summary Question 1:  Using KPIs such as average abandonment rate, service level and average speed of answer, in your opinion, which one of the two branches is operating more efficiently? Why?\n",
    "\n",
    "##### Record your answer by double clicking here:\n",
    "> Your Answer: Using KPIs such as average abandonment rate, service level and average speed of answer, In openion south branch is doing slightly better than north branch. Because all three mentioned KPIs are inclined towards better efficiency of South branch. "
   ]
  },
  {
   "cell_type": "markdown",
   "id": "489f28d6",
   "metadata": {},
   "source": [
    "#### Summary Question 2: Based on the number of reps in each branch and how quickly the reps are working, in your opinion, which branch would benefit from the extra help?\n",
    "\n",
    "##### Record your answer by double clicking here:\n",
    "> Your Answer: Both the Branches are doing almost at the same speed except for slight difference. North branch has the representative taking highest number of calls. but still considering the KPI's and number of representatives in each I feel North branch would benifit from extra help.\n"
   ]
  },
  {
   "cell_type": "markdown",
   "id": "0b10a8c3",
   "metadata": {},
   "source": [
    "#### Summary Question 3: Now that you have explored the datasets, is there any data or information that you wish you had in this analysis?\n",
    "\n",
    "##### Record your answer by double clicking here:\n",
    "> Your Answer: I find the data appropriate to perform analysis, I don't think there is any extra information needed\n"
   ]
  },
  {
   "cell_type": "markdown",
   "id": "cf13b0e4",
   "metadata": {},
   "source": [
    "<span style=\"background-color:orangered; color:orangered;\">- - - - - - - - - - - - - - - - - - - - - - - - - - - - - - - - - - - - - - - - - - - - - - - - - - - - - - - - - - - - - - - - - - - - - - - - - - - - - - - - - - - - - - - - -</span>"
   ]
  },
  {
   "cell_type": "markdown",
   "id": "ce16f43d",
   "metadata": {},
   "source": [
    "## Bonus Mission\n",
    "Create a visualization that answers this question: For each call purpose, how many calls (incoming and outgoing) take place in each time block?\n",
    "##### Record your answer by double clicking here:\n",
    "\n",
    "> Chart style you chose and why: "
   ]
  },
  {
   "cell_type": "code",
   "execution_count": 260,
   "id": "71b04f32",
   "metadata": {},
   "outputs": [],
   "source": [
    "# Create your Bonus Mission visualization here!\n",
    "call_times = df[[\"Time Block\", \"Call Purpose\", \"Incoming or Outgoing\", \"Calls\"]]\n",
    "\n",
    "# Use groupby to plot based on time blocks:\n",
    "\n",
    "# Use groupby and get_group to select which call purpose to plot:"
   ]
  }
 ],
 "metadata": {
  "kernelspec": {
   "display_name": "Python 3 (ipykernel)",
   "language": "python",
   "name": "python3"
  },
  "language_info": {
   "codemirror_mode": {
    "name": "ipython",
    "version": 3
   },
   "file_extension": ".py",
   "mimetype": "text/x-python",
   "name": "python",
   "nbconvert_exporter": "python",
   "pygments_lexer": "ipython3",
   "version": "3.11.3"
  }
 },
 "nbformat": 4,
 "nbformat_minor": 5
}
